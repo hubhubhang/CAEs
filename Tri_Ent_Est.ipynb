{
 "cells": [
  {
   "cell_type": "code",
   "execution_count": 1,
   "metadata": {
    "collapsed": true
   },
   "outputs": [],
   "source": [
    "import tensorflow as tf\n",
    "import numpy as np\n",
    "import matplotlib.pyplot as plt\n",
    "\n",
    "%matplotlib inline"
   ]
  },
  {
   "cell_type": "code",
   "execution_count": 2,
   "metadata": {},
   "outputs": [
    {
     "data": {
      "image/png": "[encoded data removed]",
      "text/plain": [
       "<matplotlib.figure.Figure at 0x7f37e9a3b9e8>"
      ]
     },
     "metadata": {},
     "output_type": "display_data"
    }
   ],
   "source": [
    "def tri_func(x,h,n):\n",
    "  y = tf.nn.relu(h-tf.abs(x-n, name=\"abs_shifted\"), name=\"tri_out\")\n",
    "  return y\n",
    "x = tf.placeholder(tf.float32, name=\"x_vals\")\n",
    "h = tf.placeholder(tf.float32, name=\"height\")\n",
    "n = tf.placeholder(tf.float32, name=\"offset\")\n",
    "tri = tri_func(x, h, n)\n",
    "with tf.Session() as sess:\n",
    "    x_eval = np.linspace(-5, 5, 200)\n",
    "    h_eval = 3\n",
    "    n_eval = 3\n",
    "    feed_dict={x:x_eval, h:h_eval, n:n_eval}\n",
    "    y_eval = sess.run(tri, feed_dict)\n",
    "plt.plot(x_eval,y_eval)\n",
    "plt.show()"
   ]
  },
  {
   "cell_type": "code",
   "execution_count": null,
   "metadata": {
    "collapsed": true
   },
   "outputs": [],
   "source": [
    "def weights(num_tri):\n",
    "    thetas = tf.Variable(tf.ones(num_tri),name=\"thetas\")\n",
    "    weights = tf.exp(thetas)\n",
    "    return weights"
   ]
  },
  {
   "cell_type": "code",
   "execution_count": null,
   "metadata": {
    "collapsed": true
   },
   "outputs": [],
   "source": [
    "def zeta(weights):\n",
    "    return tf.reduce_sum(weights)"
   ]
  },
  {
   "cell_type": "code",
   "execution_count": null,
   "metadata": {
    "collapsed": true
   },
   "outputs": [],
   "source": [
    "def prob_est(latent_vals, weights, tri_locs):\n",
    "    tris = tri_func(latent_vals, weights, tri_locs)\n",
    "    prob_est = tf.divide(tf.reduce_sum(tris),zeta(weights), name=\"prob_est\")\n",
    "    return prob_est"
   ]
  },
  {
   "cell_type": "code",
   "execution_count": null,
   "metadata": {
    "collapsed": true
   },
   "outputs": [],
   "source": [
    "def ent_est():"
   ]
  }
 ],
 "metadata": {
  "kernelspec": {
   "display_name": "Python 3",
   "language": "python",
   "name": "python3"
  },
  "language_info": {
   "codemirror_mode": {
    "name": "ipython",
    "version": 3
   },
   "file_extension": ".py",
   "mimetype": "text/x-python",
   "name": "python",
   "nbconvert_exporter": "python",
   "pygments_lexer": "ipython3",
   "version": "3.4.3"
  }
 },
 "nbformat": 4,
 "nbformat_minor": 2
}
