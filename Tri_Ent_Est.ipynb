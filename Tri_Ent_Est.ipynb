{
 "cells": [
  {
   "cell_type": "code",
   "execution_count": 1,
   "metadata": {},
   "outputs": [
    {
     "name": "stdout",
     "output_type": "stream",
     "text": [
      "env: CUDA_VISIBLE_DEVICES=1\n"
     ]
    }
   ],
   "source": [
    "%env CUDA_VISIBLE_DEVICES=1"
   ]
  },
  {
   "cell_type": "code",
   "execution_count": 2,
   "metadata": {
    "collapsed": true
   },
   "outputs": [],
   "source": [
    "import tensorflow as tf\n",
    "import numpy as np\n",
    "import matplotlib.pyplot as plt\n",
    "import time as ti\n",
    "%matplotlib inline"
   ]
  },
  {
   "cell_type": "code",
   "execution_count": 3,
   "metadata": {
    "collapsed": true
   },
   "outputs": [],
   "source": [
    "def eval_triangle(x, h, n):\n",
    "    \"\"\"\n",
    "    Compute triangle histogram for given latent variables\n",
    "    Input:\n",
    "        x [num_batch, num_latent] latent values\n",
    "        h [num_latent, num_tri] triangle heights\n",
    "        n [num_tri] number of triangles to use\n",
    "    x is broadcasted to [num_batch, num_latent, num_tri] (replicated num_tri times)\n",
    "    h is broadcasted to [num_batch, num_latent, num_tri] (replicated num_batch times)\n",
    "    n is boradcasted to [num_batch, num_latent, num_tri] (replicated num_batch * num_latent times)\n",
    "    Output:\n",
    "        y [num_batch, num_latent, num_tri] evaluated triangles\n",
    "    \"\"\"\n",
    "    h = tf.expand_dims(h, axis=0)\n",
    "    x = tf.expand_dims(x, axis=-1)\n",
    "    n = tf.expand_dims(tf.expand_dims(n, axis=0), axis=0)\n",
    "    y = tf.nn.relu(h-tf.abs(x-n, name=\"abs_shifted\"), name=\"tri_out\")\n",
    "    return y"
   ]
  },
  {
   "cell_type": "code",
   "execution_count": 4,
   "metadata": {
    "collapsed": true
   },
   "outputs": [],
   "source": [
    "def thetas(num_latent, num_tri):\n",
    "    return tf.Variable(tf.ones((num_latent, num_tri)), name=\"thetas\")"
   ]
  },
  {
   "cell_type": "code",
   "execution_count": 5,
   "metadata": {
    "collapsed": true
   },
   "outputs": [],
   "source": [
    "def weights(thetas):\n",
    "    return tf.exp(thetas)"
   ]
  },
  {
   "cell_type": "code",
   "execution_count": 6,
   "metadata": {
    "collapsed": true
   },
   "outputs": [],
   "source": [
    "def zeta(thetas):\n",
    "    \"\"\"\n",
    "    Normalizing constant\n",
    "    Input:\n",
    "        thetas [num_latent, num_tri]\n",
    "    Output:\n",
    "        zeta [num_latent]\n",
    "    \"\"\"\n",
    "    return tf.reduce_sum(weights(thetas), axis=[1])"
   ]
  },
  {
   "cell_type": "code",
   "execution_count": 7,
   "metadata": {
    "collapsed": true
   },
   "outputs": [],
   "source": [
    "def prob_est(latent_vals, thetas, tri_locs):\n",
    "    \"\"\"\n",
    "    Inputs:\n",
    "        latent_vals [num_batch, num_latent] latent values\n",
    "        thetas [num_latent, num_tri] triangle weights\n",
    "        tri_locs [num_tri] location of each triangle for latent discretization\n",
    "    Outputs:\n",
    "        prob_est [num_batch, num_latent]\n",
    "    \"\"\"\n",
    "    tris = eval_triangle(latent_vals, weights(thetas), tri_locs) # [num_batch, num_latent, num_tri]\n",
    "    prob_est = tf.divide(tf.reduce_sum(tris, axis=[2]), tf.expand_dims(zeta(thetas), axis=0), name=\"prob_est\")\n",
    "    return prob_est"
   ]
  },
  {
   "cell_type": "code",
   "execution_count": 8,
   "metadata": {
    "collapsed": true
   },
   "outputs": [],
   "source": [
    "def log_likelihood(latent_vals, thetas, tri_locs):\n",
    "    \"\"\"\n",
    "    Inputs:\n",
    "        latent_vals [num_batch, num_latent] latent values\n",
    "        thetas [num_latent, num_tri] triangle weights\n",
    "        tri_locs [num_tri] location of each triangle for latent discretization\n",
    "    Outputs:\n",
    "        log_likelihood [num_latent]\n",
    "    \"\"\"\n",
    "    probs = prob_est(latent_vals, weights(thetas), tri_locs) # [num_batch, num_latent]\n",
    "    return tf.reduce_sum(tf.log(probs, name=\"log_probs\"), axis=[0], name=\"log_likelihood\")"
   ]
  },
  {
   "cell_type": "code",
   "execution_count": 9,
   "metadata": {
    "collapsed": true
   },
   "outputs": [],
   "source": [
    "def mle(log_likelihood, thetas, learning_rate):\n",
    "  grads = tf.gradients(log_likelihood, thetas)[0]\n",
    "  return thetas.assign_add(tf.multiply(tf.constant(learning_rate), grads))"
   ]
  },
  {
   "cell_type": "code",
   "execution_count": 10,
   "metadata": {},
   "outputs": [
    {
     "name": "stdout",
     "output_type": "stream",
     "text": [
      "2.1477646827697754  seconds\n"
     ]
    }
   ],
   "source": [
    "num_batch = 100\n",
    "num_latent = 30000\n",
    "gauss_mean = 0\n",
    "gauss_var = 10\n",
    "\n",
    "# New free parameters\n",
    "num_tris = 20\n",
    "learning_rate = 0.01\n",
    "num_mle = 10\n",
    "\n",
    "with tf.device('/gpu:0'):\n",
    "  x = tf.placeholder(tf.float32, shape=[num_batch, num_latent], name=\"latent_vals\")\n",
    "  n = tf.placeholder(tf.float32, shape=[num_tris], name=\"triangle_offset\")\n",
    "  tri_thetas = thetas(num_latent, num_tris)\n",
    "  ll = log_likelihood(x, tri_thetas, n)\n",
    "\n",
    "with tf.Session() as sess:\n",
    "    sess.run(tf.group(tf.global_variables_initializer(), tf.local_variables_initializer()))\n",
    "    #latent_vals = np.random.normal(loc=gauss_mean, scale=gauss_var, size=[num_batch, num_latent])\n",
    "    #latent_vals = np.random.poisson(lam=3, size=[num_batch, num_latent])\n",
    "    latent_vals = np.random.laplace(loc=gauss_mean, scale=gauss_var, size=[num_batch, num_latent])\n",
    "    tri_min = np.min(latent_vals)\n",
    "    tri_max = np.max(latent_vals)\n",
    "    tri_locs = np.linspace(tri_min, tri_max, num_tris)\n",
    "    feed_dict={x:latent_vals, n:tri_locs}\n",
    "    t0 = ti.time()\n",
    "    for mle_step in range(num_mle):\n",
    "        sess.run(mle(ll, tri_thetas, learning_rate), feed_dict) \n",
    "    t1 = ti.time()\n",
    "    ll_eval, tri_eval = sess.run([ll, eval_triangle(x, tri_thetas, n)], feed_dict)\n",
    "print(t1-t0, \" seconds\")\n",
    "\n"
   ]
  },
  {
   "cell_type": "code",
   "execution_count": 11,
   "metadata": {},
   "outputs": [
    {
     "data": {
      "image/png": "[encoded data removed]",
      "text/plain": [
       "<matplotlib.figure.Figure at 0x7fc1957a2208>"
      ]
     },
     "metadata": {},
     "output_type": "display_data"
    }
   ],
   "source": [
    "uid = np.random.choice(num_latent, 1)[0]\n",
    "fig, axes = plt.subplots(1,2)\n",
    "axes[0].hist(latent_vals[:, uid], bins=10)\n",
    "axes[1].bar(latent_vals[:, uid], np.sum(tri_eval[:, uid, :], axis=1), width=8)\n",
    "plt.show()"
   ]
  },
  {
   "cell_type": "markdown",
   "metadata": {
    "collapsed": true
   },
   "source": [
    "### To test:\n",
    "* learn a set of triangle weights\n",
    "* for given triangle weights, eval on large linspace\n",
    "* output of tri_eval should match hist of original data"
   ]
  }
 ],
 "metadata": {
  "kernelspec": {
   "display_name": "Python 3",
   "language": "python",
   "name": "python3"
  },
  "language_info": {
   "codemirror_mode": {
    "name": "ipython",
    "version": 3
   },
   "file_extension": ".py",
   "mimetype": "text/x-python",
   "name": "python",
   "nbconvert_exporter": "python",
   "pygments_lexer": "ipython3",
   "version": "3.4.3"
  }
 },
 "nbformat": 4,
 "nbformat_minor": 2
}
